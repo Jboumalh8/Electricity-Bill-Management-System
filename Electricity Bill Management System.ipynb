{
 "cells": [
  {
   "cell_type": "markdown",
   "id": "3e9f1d9a",
   "metadata": {},
   "source": [
    "Electricity Bill Management System"
   ]
  },
  {
   "cell_type": "markdown",
   "id": "9af45f0f",
   "metadata": {},
   "source": [
    "Import Section "
   ]
  },
  {
   "cell_type": "code",
   "execution_count": 6,
   "id": "57b1801c",
   "metadata": {},
   "outputs": [],
   "source": [
    "from datetime import date, timedelta\n",
    "from prettytable import PrettyTable\n",
    "from PIL import Image, ImageDraw, ImageFont\n",
    "\n"
   ]
  },
  {
   "cell_type": "markdown",
   "id": "307e3646",
   "metadata": {},
   "source": [
    "Function Section"
   ]
  },
  {
   "cell_type": "code",
   "execution_count": 7,
   "id": "433bae11",
   "metadata": {},
   "outputs": [],
   "source": [
    "def bill_amt(Unit_Consumed):\n",
    "    if Units_Consumed <= 100:\n",
    "        Bill_Amount = Units_Consumed*3.75 + 35\n",
    "    \n",
    "    elif Units_Consumed <= 200:\n",
    "        Bill_Amount = Units_Consumed*5.23 + 45\n",
    "    elif Units_Consumed <= 300:\n",
    "        Bill_Amount = Units_Consumed*6.75 + 55\n",
    "    else:\n",
    "        \n",
    "        Bill_Amount = Units_Consumed*7.82 + 65\n",
    "        \n",
    "    return Bill_Amount\n"
   ]
  },
  {
   "cell_type": "code",
   "execution_count": 8,
   "id": "2d1655a4",
   "metadata": {},
   "outputs": [],
   "source": [
    "def bill_print(Date, Customer_Number , Account_Holder_Name , Current_Meter_Reading, Previous_Meter_Reading, Units_Consumed, Bill_Amount, Due_Date):\n",
    "    bill = PrettyTable()\n",
    "    bill.field_names = [\"So. no\", \"Particulars\", \"Data\"]\n",
    "    bill.add_rows([\n",
    "                     [1, \"Date\", Date],\n",
    "                     [2, \"Customer Number\", Customer_Number],\n",
    "                     [3, \"Account Holder Name\", Account_Holder_Name],\n",
    "                     [4, \"Current Meter Reading\", Current_Meter_Reading],\n",
    "                     [5, \"Previous Meter Reading\", Previous_Meter_Reading],\n",
    "                     [6, \"Units Consumed\", Units_Consumed],\n",
    "                     [7, \"Net Bill Amount $\", Bill_Amount],\n",
    "                     [8, \"Due Date\", Due_Date]\n",
    "    ])\n",
    "                     \n",
    "    bill.align = 'l'\n",
    "    \n",
    "    img = Image.new('RGB', (500,250), color = 'white')\n",
    "    fnt = ImageFont.truetype('arial.ttf', 15)\n",
    "    draw = ImageDraw.Draw(img)\n",
    "    draw.text((10,10), str(bill), font = fnt, fill = 'black')\n",
    "    img.save(str(Customer_Number) + '.png')\n",
    "    return bill\n",
    "    "
   ]
  },
  {
   "cell_type": "markdown",
   "id": "152157ab",
   "metadata": {},
   "source": [
    "Main Code Section"
   ]
  },
  {
   "cell_type": "code",
   "execution_count": 9,
   "id": "aa7baa2b",
   "metadata": {
    "scrolled": true
   },
   "outputs": [
    {
     "name": "stdout",
     "output_type": "stream",
     "text": [
      "Enter Customer Number: 8282\n",
      "Account Holder name: Alfred\n",
      "Current Meter Reading: 1000\n",
      "Previous Meter Reading: 100\n",
      "Units Consumed 900.0\n",
      "Date 2022-12-30\n",
      "Due Date 2023-01-29\n",
      "+--------+------------------------+------------+\n",
      "| So. no | Particulars            | Data       |\n",
      "+--------+------------------------+------------+\n",
      "| 1      | Date                   | 2022-12-30 |\n",
      "| 2      | Customer Number        | 8282       |\n",
      "| 3      | Account Holder Name    | Alfred     |\n",
      "| 4      | Current Meter Reading  | 1000.0     |\n",
      "| 5      | Previous Meter Reading | 100.0      |\n",
      "| 6      | Units Consumed         | 900.0      |\n",
      "| 7      | Net Bill Amount $      | 7103.0     |\n",
      "| 8      | Due Date               | 2023-01-29 |\n",
      "+--------+------------------------+------------+\n",
      "Bill printed Successfully\n",
      "Do you want to feed in next bill data ? Y / N : n\n",
      "Thank you\n"
     ]
    }
   ],
   "source": [
    "while True:\n",
    "\n",
    "    Date = date.today().isoformat()\n",
    "    Due_Date =(date.today() + timedelta(days = 30)).isoformat()\n",
    "    Customer_Number = int(input(\"Enter Customer Number: \"))\n",
    "    Account_Holder_Name = input(\"Account Holder name: \")\n",
    "    Current_Meter_Reading = float(input(\"Current Meter Reading: \"))\n",
    "    Previous_Meter_Reading = float(input(\"Previous Meter Reading: \"))\n",
    "    Units_Consumed = Current_Meter_Reading - Previous_Meter_Reading\n",
    "    \n",
    "    print(\"Units Consumed \" + str(Units_Consumed))\n",
    "    print(\"Date\",Date)\n",
    "    print(\"Due Date\", Due_Date)\n",
    "    Bill_Amount =  bill_amt(Units_Consumed)\n",
    "    \n",
    "    print(bill_print(Date,Customer_Number , Account_Holder_Name , Current_Meter_Reading, Previous_Meter_Reading, Units_Consumed, Bill_Amount, Due_Date))\n",
    "    \n",
    "    print(\"Bill printed Successfully\")\n",
    "    \n",
    "    dec = input(\"Do you want to feed in next bill data ? Y / N : \")\n",
    "    if dec.upper() == \"N\":\n",
    "        print(\"Thank you\")\n",
    "        break\n"
   ]
  },
  {
   "cell_type": "code",
   "execution_count": null,
   "id": "77156c65",
   "metadata": {},
   "outputs": [],
   "source": []
  },
  {
   "cell_type": "code",
   "execution_count": null,
   "id": "88f4d7ed",
   "metadata": {},
   "outputs": [],
   "source": []
  }
 ],
 "metadata": {
  "kernelspec": {
   "display_name": "Python 3 (ipykernel)",
   "language": "python",
   "name": "python3"
  },
  "language_info": {
   "codemirror_mode": {
    "name": "ipython",
    "version": 3
   },
   "file_extension": ".py",
   "mimetype": "text/x-python",
   "name": "python",
   "nbconvert_exporter": "python",
   "pygments_lexer": "ipython3",
   "version": "3.9.13"
  }
 },
 "nbformat": 4,
 "nbformat_minor": 5
}
